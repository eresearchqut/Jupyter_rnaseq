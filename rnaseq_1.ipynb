{
 "cells": [
  {
   "cell_type": "markdown",
   "id": "81a5f55d-eee5-4491-99dc-3f142e639286",
   "metadata": {},
   "source": [
    "# 1. nfcore/rnaseq workflow"
   ]
  },
  {
   "cell_type": "markdown",
   "id": "bdfae2c6-16bd-42dc-a831-06c052912a42",
   "metadata": {},
   "source": [
    "From the [nfcore/rnaseq website](https://nf-co.re/rnaseq/3.12.0):\n",
    "\n",
    "> nf-core/rnaseq is a bioinformatics pipeline that can be used to analyse RNA sequencing data obtained from organisms with a reference genome and annotation. It takes a samplesheet and FASTQ files as input, performs quality control (QC), trimming and (pseudo-)alignment, and produces a gene expression matrix and extensive QC report.\n",
    "\n",
    "> The pipeline is built using [Nextflow](https://www.nextflow.io/), a workflow tool to run tasks across multiple compute infrastructures in a very portable manner."
   ]
  },
  {
   "cell_type": "markdown",
   "id": "b167fc72-50b9-4476-b788-88581736b6b9",
   "metadata": {},
   "source": [
    "*************"
   ]
  },
  {
   "cell_type": "markdown",
   "id": "fc645235-78f4-4aa6-84f3-d60a7d6f5e3c",
   "metadata": {
    "tags": []
   },
   "source": [
    "# Contents\n",
    "\n",
    "[1a. Prerequisites](#prereq)\n",
    "\n",
    "[1b. nfcore/rnaseq workflow overview](#workflow)\n",
    "\n",
    "[1c. Running a test dataset](#test)\n",
    "\n",
    "[1d. Initial setup](#setup)\n",
    "\n",
    "[1e. Creating a samplesheet](#sampsheet)\n",
    "\n",
    "[1f. Quality assessment](#qc)"
   ]
  },
  {
   "cell_type": "markdown",
   "id": "98c15b43-5ae4-46a7-a436-e6d54bfa0e24",
   "metadata": {},
   "source": [
    "******************"
   ]
  },
  {
   "cell_type": "markdown",
   "id": "5218a93e-1447-4130-b6a6-82dfa3a39e2c",
   "metadata": {},
   "source": [
    "## 1a. Prerequisites <a class=\"anchor\" id=\"prereq2\"></a>"
   ]
  },
  {
   "cell_type": "markdown",
   "id": "6c805700-26e1-4483-93e8-39f6af05c77f",
   "metadata": {},
   "source": [
    "To run the nfcore/rnaseq workflow, you will need:"
   ]
  },
  {
   "cell_type": "markdown",
   "id": "e8f6a33e-3a46-4e79-b25d-8fbfb54218ce",
   "metadata": {},
   "source": [
    "1. **A QUT HPC account.** If you are seeing this Notebook, you most likely already have a HPC account. Regardless, you can request an account be created, or request any other HPC or bioinformatics support, via the portal here: https://eresearchqut.atlassian.net/servicedesk/customer/portals\n",
    "\n",
    "2. Nextflow needs to be installed on your HPC account. **If you haven't already installed Nextflow, or you need to update Nextflow to the latest version, click on the following link, which will download and open a Jupyter Notebook that will step you through installing Nextflow:** https://jupyterhub.eres.qut.edu.au/hub/user-redirect/git-pull?repo=https%3A%2F%2Fgithub.com%2Feresearchqut%2FJupyter_Nextflow_install&urlpath=lab%2Ftree%2FJupyter_Nextflow_install%2FNextflow.ipynb&branch=main\n",
    "\n",
    "3. **Your sequence data files** (fastq.gz format) copied to a location on the QUT HPC that you can access. If you are unsure of the location of your data files, submit a service request through the portal (link above)."
   ]
  },
  {
   "cell_type": "markdown",
   "id": "7bcb32d2-2303-4cb5-a03b-6e39bdff852c",
   "metadata": {},
   "source": [
    "**********"
   ]
  },
  {
   "cell_type": "markdown",
   "id": "d7f23c66-5de6-45fc-8cab-8d9a6e0a328b",
   "metadata": {},
   "source": [
    "## 1b. nfcore/rnaseq workflow overview <a class=\"anchor\" id=\"workflow\"></a>"
   ]
  },
  {
   "cell_type": "markdown",
   "id": "991469ba-f965-4b29-ab4b-36a7584e196e",
   "metadata": {},
   "source": [
    "nfcore/rnaseq is a [Nextflow](https://www.nextflow.io/) workflow for analysing RNA-Seq data. Nextflow is a workflow management tool. [nfcore](https://nf-co.re/) is a repository of curated [bioinformatics pipelines](https://nf-co.re/pipelines)."
   ]
  },
  {
   "cell_type": "markdown",
   "id": "9a13903a-7ee2-47e0-9232-33fbf0745671",
   "metadata": {},
   "source": [
    "For workflow information: https://nf-co.re/rnaseq/3.12.0"
   ]
  },
  {
   "cell_type": "markdown",
   "id": "03242f9d-ddba-4e2f-a5c3-af8c267ff57e",
   "metadata": {},
   "source": [
    "How to run workflow: https://nf-co.re/rnaseq/3.12.0/docs/usage"
   ]
  },
  {
   "cell_type": "markdown",
   "id": "e3c7829c-9517-46ca-b9e1-8b22a97995c0",
   "metadata": {},
   "source": [
    "Workflow output: https://nf-co.re/rnaseq/3.12.0/docs/output"
   ]
  },
  {
   "cell_type": "markdown",
   "id": "6dac8b34-1517-4661-8460-2fcaf9058057",
   "metadata": {},
   "source": [
    "![](https://raw.githubusercontent.com/nf-core/rnaseq/3.12.0//docs/images/nf-core-rnaseq_metro_map_grey.png)"
   ]
  },
  {
   "cell_type": "markdown",
   "id": "ac2ba7ff-f4e4-4f0b-af65-db6dd1361e66",
   "metadata": {},
   "source": [
    "The pipeline is built using Nextflow and processes data using the following steps:\n",
    "\n",
    "* [Preprocessing](https://nf-co.re/rnaseq/3.10.1/docs/output#preprocessing)\n",
    "\n",
    "  * [cat](https://nf-co.re/rnaseq/3.10.1/docs/output#cat) - Merge re-sequenced FastQ files\n",
    "\n",
    "  * [FastQC](https://nf-co.re/rnaseq/3.10.1/docs/output#fastqc) - Raw read QC\n",
    "\n",
    "  * [UMI-tools extract](https://nf-co.re/rnaseq/3.10.1/docs/output#umi-tools-extract) - UMI barcode extraction\n",
    "\n",
    "  * [TrimGalore](https://nf-co.re/rnaseq/3.10.1/docs/output#trimgalore) - Adapter and quality trimming\n",
    "\n",
    "  * [BBSplit](https://nf-co.re/rnaseq/3.10.1/docs/output#bbsplit) - Removal of genome contaminants\n",
    "\n",
    "  * [SortMeRNA](https://nf-co.re/rnaseq/3.10.1/docs/output#sortmerna) - Removal of ribosomal RNA\n",
    "\n",
    "* [Alignment and quantification](https://nf-co.re/rnaseq/3.10.1/docs/output#alignment-and-quantification)\n",
    "\n",
    "  * [STAR and Salmon](https://nf-co.re/rnaseq/3.10.1/docs/output#star-and-salmon) - Fast spliced aware genome alignment and transcriptome quantification\n",
    "\n",
    "  * [STAR via RSEM](https://nf-co.re/rnaseq/3.10.1/docs/output#star-via-rsem) - Alignment and quantification of expression levels\n",
    "\n",
    "  * [HISAT2](https://nf-co.re/rnaseq/3.10.1/docs/output#hisat2) - Memory efficient splice aware alignment to a reference\n",
    "\n",
    "* [Alignment post-processing](https://nf-co.re/rnaseq/3.10.1/docs/output#alignment-post-processing)\n",
    "\n",
    "  * [SAMtools](https://nf-co.re/rnaseq/3.10.1/docs/output#samtools) - Sort and index alignments\n",
    "\n",
    "  * [UMI-tools dedup](https://nf-co.re/rnaseq/3.10.1/docs/output#umi-tools-dedup) - UMI-based deduplication\n",
    "\n",
    "  * [picard MarkDuplicates](https://nf-co.re/rnaseq/3.10.1/docs/output#picard-markduplicates) - Duplicate read marking\n",
    "\n",
    "* [Other steps](https://nf-co.re/rnaseq/3.10.1/docs/output#other-steps)\n",
    "\n",
    "  * [StringTie](https://nf-co.re/rnaseq/3.10.1/docs/output#stringtie) - Transcript assembly and quantification\n",
    "\n",
    "  * [BEDTools and bedGraphToBigWig](https://nf-co.re/rnaseq/3.10.1/docs/output#bedtools-and-bedgraphtobigwig) - Create bigWig coverage files\n",
    "\n",
    "* [Quality control](https://nf-co.re/rnaseq/3.10.1/docs/output#quality-control)\n",
    "\n",
    "  * [RSeQC](https://nf-co.re/rnaseq/3.10.1/docs/output#rseqc) - Various RNA-seq QC metrics\n",
    "\n",
    "  * [Qualimap](https://nf-co.re/rnaseq/3.10.1/docs/output#qualimap) - Various RNA-seq QC metrics\n",
    "\n",
    "  * [dupRadar](https://nf-co.re/rnaseq/3.10.1/docs/output#dupradar) - Assessment of technical / biological read duplication\n",
    "\n",
    "  * [Preseq](https://nf-co.re/rnaseq/3.10.1/docs/output#preseq) - Estimation of library complexity\n",
    "\n",
    "  * [featureCounts](https://nf-co.re/rnaseq/3.10.1/docs/output#featurecounts) - Read counting relative to gene biotype\n",
    "\n",
    "  * [DESeq2](https://nf-co.re/rnaseq/3.10.1/docs/output#deseq2) - PCA plot and sample pairwise distance heatmap and dendrogram\n",
    "\n",
    "  * [MultiQC](https://nf-co.re/rnaseq/3.10.1/docs/output#multiqc) - Present QC for raw reads, alignment, read counting and sample similiarity\n",
    "\n",
    "* [Pseudo-alignment and quantification](https://nf-co.re/rnaseq/3.10.1/docs/output#pseudo-alignment-and-quantification)\n",
    "\n",
    "  * [Salmon](https://nf-co.re/rnaseq/3.10.1/docs/output#salmon) - Wicked fast gene and isoform quantification relative to the transcriptome\n",
    "\n",
    "* [Workflow reporting and genomes](https://nf-co.re/rnaseq/3.10.1/docs/output#workflow-reporting-and-genomes)\n",
    "\n",
    "  * [Reference genome files](https://nf-co.re/rnaseq/3.10.1/docs/output#reference-genome-files) - Saving reference genome indices/files\n",
    "\n",
    "  * [Pipeline information](https://nf-co.re/rnaseq/3.10.1/docs/output#pipeline-information) - Report metrics generated during the workflow execution"
   ]
  },
  {
   "cell_type": "markdown",
   "id": "7bac7326-a2be-4935-8b1a-9948146f2b60",
   "metadata": {},
   "source": [
    "****************"
   ]
  },
  {
   "cell_type": "markdown",
   "id": "93373c1f-9570-434a-990b-d459e591a372",
   "metadata": {},
   "source": [
    "## 1c. Running a test dataset <a class=\"anchor\" id=\"test\"></a>"
   ]
  },
  {
   "cell_type": "markdown",
   "id": "e276e131-07da-48fa-ab18-ed579c3f8279",
   "metadata": {},
   "source": [
    "This section will run a small test dataset through the nfcore/sarek workflow, to see if you can successfully run nfcore/sarek."
   ]
  },
  {
   "cell_type": "markdown",
   "id": "2abb214b-bdac-4976-b6be-5d5630eee023",
   "metadata": {},
   "source": [
    "<div class=\"alert alert-block alert-warning\">\n",
    "Run the following code cell to run the nfcore/sarek test. Note that this is set to run without output messages (`-q`) as these will span multiple pages. Instead `nextflow log -f status` is run after the test run has finished, to see if the job ran sucessfully.\n",
    "</div>"
   ]
  },
  {
   "cell_type": "markdown",
   "id": "9c5acb7b-c437-49b5-b9f9-cb13ec2118f7",
   "metadata": {},
   "source": [
    "<div class=\"alert alert-block alert-danger\">\n",
    "This test can take an hour or more to complete. You don't have to run this test before you run the full workflow, but you may want to run it to test that the workflow will run on your system. \n",
    "</div>"
   ]
  },
  {
   "cell_type": "code",
   "execution_count": null,
   "id": "e24f77f1-58e1-42c5-945d-130d15c13631",
   "metadata": {
    "tags": []
   },
   "outputs": [],
   "source": [
    "mkdir $HOME/nftemp && cd $HOME/nftemp\n",
    "module load java\n",
    "nextflow -q run nf-core/rnaseq -r 3.12.2 --outdir test -profile test,singularity\n",
    "nextflow log -f status"
   ]
  },
  {
   "cell_type": "markdown",
   "id": "3400676f-0196-4812-b5a4-84dd688fdb78",
   "metadata": {},
   "source": [
    "**In the last 3 lines you should see a table with `TIMESTAMP` .. `DURATION`, etc (You can ignore any `WARN` messages). If the `STATUS` is `OK` then the test run was successful and you can go to the next section. If you don't see `STATUS` being `OK`, submit a support request through the [Portal](https://eresearchqut.atlassian.net/servicedesk/customer/portals).** "
   ]
  },
  {
   "cell_type": "markdown",
   "id": "1d484db1-4a15-4ffc-a618-818507691e0f",
   "metadata": {},
   "source": [
    "<div class=\"alert alert-block alert-success\">\n",
    "To run the above test, Nextflow downloads test data and generates numerous output directories and files. These should be removed after the test is run, by running the following:  \n",
    "    </div>"
   ]
  },
  {
   "cell_type": "code",
   "execution_count": null,
   "id": "111efe31-4caa-4f35-92da-716605bd6da1",
   "metadata": {},
   "outputs": [],
   "source": [
    "cd $HOME\n",
    "rm -rf nftemp"
   ]
  },
  {
   "cell_type": "markdown",
   "id": "36cfde56-83c8-4326-80d5-2ef471f2e049",
   "metadata": {},
   "source": [
    "*****************************"
   ]
  },
  {
   "cell_type": "markdown",
   "id": "2764609f-4e8d-40b2-a228-0ee853e9bfcb",
   "metadata": {},
   "source": [
    "## 1d. Initial setup <a class=\"anchor\" id=\"setup\"></a>"
   ]
  },
  {
   "cell_type": "markdown",
   "id": "970977de-3af9-4bae-9180-0cad945db23c",
   "metadata": {},
   "source": [
    "<div class=\"alert alert-block alert-info\">\n",
    "Enter the directory that contains your sequence data files. You can find this directory path by typing 'pwd' on the command-line when you are in that directory, or by contacting the HPC staff via the [portal](https://eresearchqut.atlassian.net/servicedesk/customer/portals). The structure of the below command should be `root_path=/directory/containing/my/vcf/files`.\n",
    "</div>"
   ]
  },
  {
   "cell_type": "code",
   "execution_count": null,
   "id": "e8e08e20-d92b-457a-aa09-86d5728e25bb",
   "metadata": {
    "tags": []
   },
   "outputs": [],
   "source": [
    "root_path=/work/eresearch_bio/nextflow/rnaseq_test/data"
   ]
  },
  {
   "cell_type": "markdown",
   "id": "9856057c-5631-41f2-9624-08f5b2fe6ffe",
   "metadata": {},
   "source": [
    "<div class=\"alert alert-block alert-success\">\n",
    "Now move to the above directory (cd = change directory): \n",
    "</div>"
   ]
  },
  {
   "cell_type": "code",
   "execution_count": null,
   "id": "1c14e92d-79f9-4ed7-bd22-5b6bd97b2ef4",
   "metadata": {
    "tags": []
   },
   "outputs": [],
   "source": [
    "cd $root_path"
   ]
  },
  {
   "cell_type": "markdown",
   "id": "4978c669-0813-4e27-bbb7-5233a355a39e",
   "metadata": {},
   "source": [
    "<div class=\"alert alert-block alert-danger\">\n",
    "NOTE: the above two code cells must be run every time you use this Notebook.\n",
    "    </div>"
   ]
  },
  {
   "cell_type": "markdown",
   "id": "b11c274c-69ed-425f-bfd7-59f93cd002d6",
   "metadata": {},
   "source": [
    "<div class=\"alert alert-block alert-warning\">\n",
    "To see if you are in the correct directory, run the 'ls' code cell below. You should see a list of all your sample files ('...fastq.gz' or '...fq.gz' files). If you don't see the files, you've entered the above location incorrectly and need to correct and re-run the above code cell.\n",
    "</div>"
   ]
  },
  {
   "cell_type": "code",
   "execution_count": null,
   "id": "f26801d6-c5fd-4bd4-8dd1-a535d33ceb14",
   "metadata": {},
   "outputs": [],
   "source": [
    "ls"
   ]
  },
  {
   "cell_type": "markdown",
   "id": "4398936d-b443-4688-b1d0-91eb640a34d0",
   "metadata": {},
   "source": [
    "********"
   ]
  },
  {
   "cell_type": "markdown",
   "id": "a08ed2cb-723e-49de-8116-8b51196fa485",
   "metadata": {},
   "source": [
    "## 1e. Creating a samplesheet <a class=\"anchor\" id=\"sampsheet\"></a>"
   ]
  },
  {
   "cell_type": "markdown",
   "id": "5c83ac8f-f204-4138-b3d4-c5f6efaa43a7",
   "metadata": {},
   "source": [
    "nfcore/sarek requires a samplesheet, that contains, at minumum, 4 columns:\n",
    "1. sample IDs\n",
    "2. Read 1 sequence data files (fastq files)\n",
    "3. Read 2 sequence data files (fastq files)\n",
    "4. [Strandedness](https://www.rna-seqblog.com/what-is-strandedness-in-rna-seq-data/)\n",
    "Details about the required samplesheet structure, as well as an example samplesheet, can be see [here](https://nf-co.re/rnaseq/3.12.0/docs/usage#samplesheet-input)."
   ]
  },
  {
   "cell_type": "markdown",
   "id": "2c5466d7-285e-4a03-b9ce-9abf38d0a8dc",
   "metadata": {},
   "source": [
    "<div class=\"alert alert-block alert-danger\">\n",
    "FASTQ FILE NAMING CONVENTIONS: sequence data files (fastq files) are typically paired-end, with two fastq files per sample, Read 1 (R1) and Read 2 (R2). In addition, fastq files are typically gzipped ('filename.fastq.gz' - nfcore/rnaseq requirs this) and may be named 'fastq' or just 'fq'. This results in a few different naming patterns. To create your samplesheet correctly, you need to enter the naming patterns that match your fastq files in the code cells below (i.e. the last few characters at the end of each file that are teh same in ALL Read 1 and ALL Read 2 files respectively). Some examples of fastq naming conventions can be `R1_001.fastq.gz`, `1_fq.gz`, `R2_fq.gz`, `2_fastq.gz', etc.  \n",
    "</div>"
   ]
  },
  {
   "cell_type": "markdown",
   "id": "8988aa81-6ff7-467d-8479-94bce03b6f2b",
   "metadata": {},
   "source": [
    "For more information about fastq files, see [here](https://knowledge.illumina.com/software/general/software-general-reference_material-list/000002211)."
   ]
  },
  {
   "cell_type": "markdown",
   "id": "2787b72b-1842-4f6a-9e69-dfb69ff394d1",
   "metadata": {},
   "source": [
    "<div class=\"alert alert-block alert-info\">\n",
    "First, input the common naming pattern of your Read 1 data files. You can see this from the `ls` command above.\n",
    "</div>"
   ]
  },
  {
   "cell_type": "code",
   "execution_count": null,
   "id": "df6a5718-cf3c-49ff-8e36-97d30b09a748",
   "metadata": {
    "tags": []
   },
   "outputs": [],
   "source": [
    "fq1_format=_merged_R1.fastq.gz"
   ]
  },
  {
   "cell_type": "markdown",
   "id": "6ce6d558-3f20-449b-887d-9a6ac0b892ac",
   "metadata": {},
   "source": [
    "<div class=\"alert alert-block alert-info\">\n",
    "Enter the Read 2 files naming pattern.\n",
    "</div>"
   ]
  },
  {
   "cell_type": "code",
   "execution_count": null,
   "id": "e2009fb9-3c16-4167-b49a-563054739200",
   "metadata": {
    "tags": []
   },
   "outputs": [],
   "source": [
    "fq2_format=_merged_R2.fastq.gz"
   ]
  },
  {
   "cell_type": "markdown",
   "id": "1d132e65-81aa-4275-b498-cbfc2d7f16f0",
   "metadata": {},
   "source": [
    "<div class=\"alert alert-block alert-success\">\n",
    "Now you generate the samplesheet by running the following:\n",
    "</div>"
   ]
  },
  {
   "cell_type": "code",
   "execution_count": null,
   "id": "da6dcb66-ba1f-4ae9-a22e-59c5db114017",
   "metadata": {
    "tags": []
   },
   "outputs": [],
   "source": [
    "cd $root_path\n",
    "module load python/3.10.8-gcccore-12.2.0\n",
    "wget -L -O fastq_dir_to_samplesheet.py https://raw.githubusercontent.com/nf-core/rnaseq/master/bin/fastq_dir_to_samplesheet.py\n",
    "chmod +x fastq_dir_to_samplesheet.py\n",
    "./fastq_dir_to_samplesheet.py $root_path samplesheet.csv \\\n",
    "    --strandedness auto \\\n",
    "    --read1_extension $fq1_format \\\n",
    "    --read2_extension $fq2_format"
   ]
  },
  {
   "cell_type": "markdown",
   "id": "9d9991fb-4402-4764-83b1-7058edde9229",
   "metadata": {},
   "source": [
    "<div class=\"alert alert-block alert-success\">\n",
    "View the samplesheet by running the below cell. The structure should look the same as the example [here](https://nf-co.re/rnaseq/3.12.0/docs/usage#samplesheet-input):\n",
    "</div>"
   ]
  },
  {
   "cell_type": "code",
   "execution_count": null,
   "id": "a1199c5c-5efd-408b-8f8a-c0d98cb86409",
   "metadata": {
    "tags": []
   },
   "outputs": [],
   "source": [
    "cat samplesheet.csv"
   ]
  },
  {
   "cell_type": "markdown",
   "id": "f544c30f-da88-427e-bf6f-e0ff8e952e46",
   "metadata": {},
   "source": [
    "******************"
   ]
  },
  {
   "cell_type": "markdown",
   "id": "d9acb6a5-5b04-4088-bf7c-19a8e6d5dfec",
   "metadata": {},
   "source": [
    "# 1f. Quality assessment <a class=\"anchor\" id=\"qc\"></a>"
   ]
  },
  {
   "cell_type": "markdown",
   "id": "eca1b43a-d2fc-4f34-b854-bfbb610ca7b8",
   "metadata": {},
   "source": [
    "In this section you will generate fastq quality reports, which will inform you of the quality of your data and any specific quality filtering parameters you should apply (next section)."
   ]
  },
  {
   "cell_type": "markdown",
   "id": "23624ffc-9e49-4463-988b-97e554144a14",
   "metadata": {},
   "source": [
    "<div class=\"alert alert-block alert-danger\">\n",
    "The code in this section submits your workflow to the HPC as a 'job' in the queue. If you have many samples, this may take many hours or even days to fully process. We provide a code cell at the end of this section to monitor your job.\n",
    "</div>"
   ]
  },
  {
   "cell_type": "markdown",
   "id": "749a78dd-fe17-4e54-90a2-28271377f619",
   "metadata": {},
   "source": [
    "See here for information on HPC job submission: https://eresearchqut.atlassian.net/wiki/spaces/EG/pages/1545143157/HPC"
   ]
  },
  {
   "cell_type": "markdown",
   "id": "0bd82d07-49b9-4ac7-af06-d47b25cecc25",
   "metadata": {},
   "source": [
    "<div class=\"alert alert-block alert-info\">\n",
    "Choose a genome for your target organism. For model organisms this is the iGenomes ID. E.g. human could be `genome=GRCh38`, mouse `genome=GRCm38`, etc. See here for details: https://github.com/ewels/AWS-iGenomes\n",
    "</div>"
   ]
  },
  {
   "cell_type": "code",
   "execution_count": null,
   "id": "8966aff3-bf40-4bb9-b01d-d90703482a07",
   "metadata": {
    "tags": []
   },
   "outputs": [],
   "source": [
    "genome=GRCh38"
   ]
  },
  {
   "cell_type": "markdown",
   "id": "b062c11e-965c-4b37-b716-69c51b19c70c",
   "metadata": {},
   "source": [
    "<div class=\"alert alert-block alert-success\">\n",
    "Run the following code cell to create the launch script that will submit your job. Note the '--skip_...' lines. This will run the nfcore/rnaseq workflow, while skipping the main analysis steps (i.e. running just the quality assessment).\n",
    "</div>"
   ]
  },
  {
   "cell_type": "code",
   "execution_count": null,
   "id": "965cefb0-a165-475a-883f-3b6bb5ba1c52",
   "metadata": {
    "tags": []
   },
   "outputs": [],
   "source": [
    "cat <<EOF > qc_launch.pbs\n",
    "#!/bin/bash -l\n",
    "#PBS -N nfrnaqc\n",
    "#PBS -l select=1:ncpus=2:mem=4gb\n",
    "#PBS -l walltime=24:00:00\n",
    "cd $root_path\n",
    "module load java\n",
    "NXF_OPTS='-Xms1g -Xmx4g'\n",
    "nextflow run nf-core/rnaseq \\\n",
    "-profile singularity \\\n",
    "      -r 3.12.0 \\\n",
    "      --input samplesheet.csv \\\n",
    "      --outdir results \\\n",
    "      --genome $genome \\\n",
    "      --skip_trimming \\\n",
    "      --skip_alignment \\\n",
    "      --skip_pseudo_alignment\n",
    "EOF"
   ]
  },
  {
   "cell_type": "markdown",
   "id": "68081f22-3159-430d-b7bb-deea616e7486",
   "metadata": {
    "tags": []
   },
   "source": [
    "<div class=\"alert alert-block alert-success\">\n",
    "Now submit this as a HPC job.\n",
    "</div>"
   ]
  },
  {
   "cell_type": "code",
   "execution_count": null,
   "id": "380a0665-620b-4574-8e06-1e1a8c9eb9cb",
   "metadata": {
    "tags": []
   },
   "outputs": [],
   "source": [
    "qsub qc_launch.pbs"
   ]
  },
  {
   "cell_type": "markdown",
   "id": "f8136ee3-43fc-47bf-a697-d5060412c8a9",
   "metadata": {},
   "source": [
    "<div class=\"alert alert-block alert-info\">\n",
    "You can monitor the progress of your job by running 'qstat'. This will give you information about your job. Enter your job ID (seen above, \"xxxxxxx.pbs\") in the qstat command below:\n",
    "</div>"
   ]
  },
  {
   "cell_type": "code",
   "execution_count": null,
   "id": "347547a1-3e20-43bb-b220-b449551815a9",
   "metadata": {
    "tags": []
   },
   "outputs": [],
   "source": [
    "qstat 4928274.pbs"
   ]
  },
  {
   "cell_type": "markdown",
   "id": "74f6aa8f-59e0-4b99-9372-d864171930c5",
   "metadata": {},
   "source": [
    "In the 'S' column, 'Q' means your job is still in the queue, 'R' means it's running, and if your job is complete it will say \"Job has finished\". Once the job is complete, you can view the quality reports."
   ]
  },
  {
   "cell_type": "markdown",
   "id": "2293cc3f-5cbc-4a3b-8ff0-d4dfb25941d7",
   "metadata": {},
   "source": [
    "<div class=\"alert alert-block alert-success\">\n",
    "\n",
    "</div>"
   ]
  },
  {
   "cell_type": "code",
   "execution_count": null,
   "id": "03a34f70-f095-48e0-a116-e5eae421c1a2",
   "metadata": {},
   "outputs": [],
   "source": []
  },
  {
   "cell_type": "code",
   "execution_count": null,
   "id": "b9aafb3c-061c-4b8d-842d-7190318a811c",
   "metadata": {},
   "outputs": [],
   "source": []
  }
 ],
 "metadata": {
  "kernelspec": {
   "display_name": "Bash .conda-jupyterhub *",
   "language": "bash",
   "name": "conda-env-.conda-jupyterhub-bash"
  },
  "language_info": {
   "codemirror_mode": "shell",
   "file_extension": ".sh",
   "mimetype": "text/x-sh",
   "name": "bash"
  }
 },
 "nbformat": 4,
 "nbformat_minor": 5
}
