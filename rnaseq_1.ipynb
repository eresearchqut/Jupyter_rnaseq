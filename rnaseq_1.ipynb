{
 "cells": [
  {
   "cell_type": "markdown",
   "id": "81a5f55d-eee5-4491-99dc-3f142e639286",
   "metadata": {},
   "source": [
    "# 1. nfcore/rnaseq workflow"
   ]
  },
  {
   "cell_type": "markdown",
   "id": "bdfae2c6-16bd-42dc-a831-06c052912a42",
   "metadata": {},
   "source": [
    "From the [nfcore/rnaseq website](https://nf-co.re/rnaseq/3.12.0):\n",
    "\n",
    "> nf-core/rnaseq is a bioinformatics pipeline that can be used to analyse RNA sequencing data obtained from organisms with a reference genome and annotation. It takes a samplesheet and FASTQ files as input, performs quality control (QC), trimming and (pseudo-)alignment, and produces a gene expression matrix and extensive QC report.\n",
    "\n",
    "> The pipeline is built using [Nextflow](https://www.nextflow.io/), a workflow tool to run tasks across multiple compute infrastructures in a very portable manner."
   ]
  },
  {
   "cell_type": "markdown",
   "id": "b167fc72-50b9-4476-b788-88581736b6b9",
   "metadata": {},
   "source": [
    "*************"
   ]
  },
  {
   "cell_type": "markdown",
   "id": "fc645235-78f4-4aa6-84f3-d60a7d6f5e3c",
   "metadata": {
    "tags": []
   },
   "source": [
    "# Contents\n",
    "\n",
    "[1a. Prerequisites](#prereq)\n",
    "\n",
    "[1b. nfcore/rnaseq workflow overview](#workflow)\n",
    "\n",
    "[1c. Running a test dataset](#test)\n",
    "\n",
    "[1d. Initial setup](#setup)\n",
    "\n",
    "[1e. Creating a samplesheet](#sampsheet)\n",
    "\n",
    "[1f. Quality assessment](#qc)\n",
    "\n",
    "[1g. Running nfcore/rnaseq](#main)\n",
    "\n",
    "[1h. Downstream analysis](#down)"
   ]
  },
  {
   "cell_type": "markdown",
   "id": "98c15b43-5ae4-46a7-a436-e6d54bfa0e24",
   "metadata": {},
   "source": [
    "******************"
   ]
  },
  {
   "cell_type": "markdown",
   "id": "5218a93e-1447-4130-b6a6-82dfa3a39e2c",
   "metadata": {},
   "source": [
    "## 1a. Prerequisites <a class=\"anchor\" id=\"prereq2\"></a>"
   ]
  },
  {
   "cell_type": "markdown",
   "id": "6c805700-26e1-4483-93e8-39f6af05c77f",
   "metadata": {},
   "source": [
    "To run the nfcore/rnaseq workflow, you will need:"
   ]
  },
  {
   "cell_type": "markdown",
   "id": "e8f6a33e-3a46-4e79-b25d-8fbfb54218ce",
   "metadata": {},
   "source": [
    "1. **A QUT HPC account.** If you are seeing this Notebook, you most likely already have a HPC account. Regardless, you can request an account be created, or request any other HPC or bioinformatics support, via the portal here: https://eresearchqut.atlassian.net/servicedesk/customer/portals\n",
    "\n",
    "2. Nextflow needs to be installed on your HPC account. **If you haven't already installed Nextflow, or you need to update Nextflow to the latest version, click on the following link, which will download and open a Jupyter Notebook that will step you through installing Nextflow:** https://jupyterhub.eres.qut.edu.au/hub/user-redirect/git-pull?repo=https%3A%2F%2Fgithub.com%2Feresearchqut%2FJupyter_Nextflow_install&urlpath=lab%2Ftree%2FJupyter_Nextflow_install%2FNextflow.ipynb&branch=main\n",
    "\n",
    "3. **Your sequence data files** (fastq.gz format) copied to a location on the QUT HPC that you can access. If you are unsure of the location of your data files, submit a service request through the portal (link above)."
   ]
  },
  {
   "cell_type": "markdown",
   "id": "7bcb32d2-2303-4cb5-a03b-6e39bdff852c",
   "metadata": {},
   "source": [
    "**********"
   ]
  },
  {
   "cell_type": "markdown",
   "id": "d7f23c66-5de6-45fc-8cab-8d9a6e0a328b",
   "metadata": {},
   "source": [
    "## 1b. nfcore/rnaseq workflow overview <a class=\"anchor\" id=\"workflow\"></a>"
   ]
  },
  {
   "cell_type": "markdown",
   "id": "991469ba-f965-4b29-ab4b-36a7584e196e",
   "metadata": {},
   "source": [
    "nfcore/rnaseq is a [Nextflow](https://www.nextflow.io/) workflow for analysing RNA-Seq data. Nextflow is a workflow management tool. [nfcore](https://nf-co.re/) is a repository of curated [bioinformatics pipelines](https://nf-co.re/pipelines)."
   ]
  },
  {
   "cell_type": "markdown",
   "id": "9a13903a-7ee2-47e0-9232-33fbf0745671",
   "metadata": {},
   "source": [
    "For workflow information: https://nf-co.re/rnaseq/3.12.0"
   ]
  },
  {
   "cell_type": "markdown",
   "id": "03242f9d-ddba-4e2f-a5c3-af8c267ff57e",
   "metadata": {},
   "source": [
    "How to run workflow: https://nf-co.re/rnaseq/3.12.0/docs/usage"
   ]
  },
  {
   "cell_type": "markdown",
   "id": "e3c7829c-9517-46ca-b9e1-8b22a97995c0",
   "metadata": {},
   "source": [
    "Workflow output: https://nf-co.re/rnaseq/3.12.0/docs/output"
   ]
  },
  {
   "cell_type": "markdown",
   "id": "6dac8b34-1517-4661-8460-2fcaf9058057",
   "metadata": {},
   "source": [
    "![](https://raw.githubusercontent.com/nf-core/rnaseq/3.12.0//docs/images/nf-core-rnaseq_metro_map_grey.png)"
   ]
  },
  {
   "cell_type": "markdown",
   "id": "ac2ba7ff-f4e4-4f0b-af65-db6dd1361e66",
   "metadata": {},
   "source": [
    "The pipeline is built using Nextflow and processes data using the following steps:\n",
    "\n",
    "* [Preprocessing](https://nf-co.re/rnaseq/3.10.1/docs/output#preprocessing)\n",
    "\n",
    "  * [cat](https://nf-co.re/rnaseq/3.10.1/docs/output#cat) - Merge re-sequenced FastQ files\n",
    "\n",
    "  * [FastQC](https://nf-co.re/rnaseq/3.10.1/docs/output#fastqc) - Raw read QC\n",
    "\n",
    "  * [UMI-tools extract](https://nf-co.re/rnaseq/3.10.1/docs/output#umi-tools-extract) - UMI barcode extraction\n",
    "\n",
    "  * [TrimGalore](https://nf-co.re/rnaseq/3.10.1/docs/output#trimgalore) - Adapter and quality trimming\n",
    "\n",
    "  * [BBSplit](https://nf-co.re/rnaseq/3.10.1/docs/output#bbsplit) - Removal of genome contaminants\n",
    "\n",
    "  * [SortMeRNA](https://nf-co.re/rnaseq/3.10.1/docs/output#sortmerna) - Removal of ribosomal RNA\n",
    "\n",
    "* [Alignment and quantification](https://nf-co.re/rnaseq/3.10.1/docs/output#alignment-and-quantification)\n",
    "\n",
    "  * [STAR and Salmon](https://nf-co.re/rnaseq/3.10.1/docs/output#star-and-salmon) - Fast spliced aware genome alignment and transcriptome quantification\n",
    "\n",
    "  * [STAR via RSEM](https://nf-co.re/rnaseq/3.10.1/docs/output#star-via-rsem) - Alignment and quantification of expression levels\n",
    "\n",
    "  * [HISAT2](https://nf-co.re/rnaseq/3.10.1/docs/output#hisat2) - Memory efficient splice aware alignment to a reference\n",
    "\n",
    "* [Alignment post-processing](https://nf-co.re/rnaseq/3.10.1/docs/output#alignment-post-processing)\n",
    "\n",
    "  * [SAMtools](https://nf-co.re/rnaseq/3.10.1/docs/output#samtools) - Sort and index alignments\n",
    "\n",
    "  * [UMI-tools dedup](https://nf-co.re/rnaseq/3.10.1/docs/output#umi-tools-dedup) - UMI-based deduplication\n",
    "\n",
    "  * [picard MarkDuplicates](https://nf-co.re/rnaseq/3.10.1/docs/output#picard-markduplicates) - Duplicate read marking\n",
    "\n",
    "* [Other steps](https://nf-co.re/rnaseq/3.10.1/docs/output#other-steps)\n",
    "\n",
    "  * [StringTie](https://nf-co.re/rnaseq/3.10.1/docs/output#stringtie) - Transcript assembly and quantification\n",
    "\n",
    "  * [BEDTools and bedGraphToBigWig](https://nf-co.re/rnaseq/3.10.1/docs/output#bedtools-and-bedgraphtobigwig) - Create bigWig coverage files\n",
    "\n",
    "* [Quality control](https://nf-co.re/rnaseq/3.10.1/docs/output#quality-control)\n",
    "\n",
    "  * [RSeQC](https://nf-co.re/rnaseq/3.10.1/docs/output#rseqc) - Various RNA-seq QC metrics\n",
    "\n",
    "  * [Qualimap](https://nf-co.re/rnaseq/3.10.1/docs/output#qualimap) - Various RNA-seq QC metrics\n",
    "\n",
    "  * [dupRadar](https://nf-co.re/rnaseq/3.10.1/docs/output#dupradar) - Assessment of technical / biological read duplication\n",
    "\n",
    "  * [Preseq](https://nf-co.re/rnaseq/3.10.1/docs/output#preseq) - Estimation of library complexity\n",
    "\n",
    "  * [featureCounts](https://nf-co.re/rnaseq/3.10.1/docs/output#featurecounts) - Read counting relative to gene biotype\n",
    "\n",
    "  * [DESeq2](https://nf-co.re/rnaseq/3.10.1/docs/output#deseq2) - PCA plot and sample pairwise distance heatmap and dendrogram\n",
    "\n",
    "  * [MultiQC](https://nf-co.re/rnaseq/3.10.1/docs/output#multiqc) - Present QC for raw reads, alignment, read counting and sample similiarity\n",
    "\n",
    "* [Pseudo-alignment and quantification](https://nf-co.re/rnaseq/3.10.1/docs/output#pseudo-alignment-and-quantification)\n",
    "\n",
    "  * [Salmon](https://nf-co.re/rnaseq/3.10.1/docs/output#salmon) - Wicked fast gene and isoform quantification relative to the transcriptome\n",
    "\n",
    "* [Workflow reporting and genomes](https://nf-co.re/rnaseq/3.10.1/docs/output#workflow-reporting-and-genomes)\n",
    "\n",
    "  * [Reference genome files](https://nf-co.re/rnaseq/3.10.1/docs/output#reference-genome-files) - Saving reference genome indices/files\n",
    "\n",
    "  * [Pipeline information](https://nf-co.re/rnaseq/3.10.1/docs/output#pipeline-information) - Report metrics generated during the workflow execution"
   ]
  },
  {
   "cell_type": "markdown",
   "id": "7bac7326-a2be-4935-8b1a-9948146f2b60",
   "metadata": {},
   "source": [
    "****************"
   ]
  },
  {
   "cell_type": "markdown",
   "id": "93373c1f-9570-434a-990b-d459e591a372",
   "metadata": {},
   "source": [
    "## 1c. Running a test dataset <a class=\"anchor\" id=\"test\"></a>"
   ]
  },
  {
   "cell_type": "markdown",
   "id": "e276e131-07da-48fa-ab18-ed579c3f8279",
   "metadata": {},
   "source": [
    "This section will run a small test dataset through the nfcore/sarek workflow, to see if you can successfully run nfcore/sarek."
   ]
  },
  {
   "cell_type": "markdown",
   "id": "2abb214b-bdac-4976-b6be-5d5630eee023",
   "metadata": {},
   "source": [
    "<div class=\"alert alert-block alert-warning\">\n",
    "Run the following code cell to run the nfcore/sarek test. Note that this is set to run without output messages (`-q`) as these will span multiple pages. Instead `nextflow log -f status` is run after the test run has finished, to see if the job ran sucessfully.\n",
    "</div>"
   ]
  },
  {
   "cell_type": "markdown",
   "id": "9c5acb7b-c437-49b5-b9f9-cb13ec2118f7",
   "metadata": {},
   "source": [
    "<div class=\"alert alert-block alert-danger\">\n",
    "This test can take an hour or more to complete. You don't have to run this test before you run the full workflow, but you may want to run it to test that the workflow will run on your system. \n",
    "</div>"
   ]
  },
  {
   "cell_type": "code",
   "execution_count": null,
   "id": "e24f77f1-58e1-42c5-945d-130d15c13631",
   "metadata": {
    "tags": []
   },
   "outputs": [],
   "source": [
    "mkdir $HOME/nftemp && cd $HOME/nftemp\n",
    "module load java\n",
    "nextflow -q run nf-core/rnaseq -r 3.12.2 --outdir test -profile test,singularity\n",
    "nextflow log -f status"
   ]
  },
  {
   "cell_type": "markdown",
   "id": "3400676f-0196-4812-b5a4-84dd688fdb78",
   "metadata": {},
   "source": [
    "**In the last 3 lines you should see a table with `TIMESTAMP` .. `DURATION`, etc (You can ignore any `WARN` messages). If the `STATUS` is `OK` then the test run was successful and you can go to the next section. If you don't see `STATUS` being `OK`, submit a support request through the [Portal](https://eresearchqut.atlassian.net/servicedesk/customer/portals).** "
   ]
  },
  {
   "cell_type": "markdown",
   "id": "1d484db1-4a15-4ffc-a618-818507691e0f",
   "metadata": {},
   "source": [
    "<div class=\"alert alert-block alert-success\">\n",
    "To run the above test, Nextflow downloads test data and generates numerous output directories and files. These should be removed after the test is run, by running the following:  \n",
    "    </div>"
   ]
  },
  {
   "cell_type": "code",
   "execution_count": null,
   "id": "111efe31-4caa-4f35-92da-716605bd6da1",
   "metadata": {},
   "outputs": [],
   "source": [
    "cd $HOME\n",
    "rm -rf nftemp"
   ]
  },
  {
   "cell_type": "markdown",
   "id": "36cfde56-83c8-4326-80d5-2ef471f2e049",
   "metadata": {},
   "source": [
    "*****************************"
   ]
  },
  {
   "cell_type": "markdown",
   "id": "2764609f-4e8d-40b2-a228-0ee853e9bfcb",
   "metadata": {},
   "source": [
    "## 1d. Initial setup <a class=\"anchor\" id=\"setup\"></a>"
   ]
  },
  {
   "cell_type": "markdown",
   "id": "970977de-3af9-4bae-9180-0cad945db23c",
   "metadata": {},
   "source": [
    "<div class=\"alert alert-block alert-info\">\n",
    "Enter the directory that contains your sequence data files. You can find this directory path by typing 'pwd' on the command-line when you are in that directory, or by contacting the HPC staff via the [portal](https://eresearchqut.atlassian.net/servicedesk/customer/portals). The structure of the below command should be `root_path=/directory/containing/my/vcf/files`.\n",
    "</div>"
   ]
  },
  {
   "cell_type": "code",
   "execution_count": null,
   "id": "e8e08e20-d92b-457a-aa09-86d5728e25bb",
   "metadata": {
    "tags": []
   },
   "outputs": [],
   "source": [
    "root_path=/work/eresearch_bio/nextflow/rnaseq_test/data"
   ]
  },
  {
   "cell_type": "markdown",
   "id": "9856057c-5631-41f2-9624-08f5b2fe6ffe",
   "metadata": {},
   "source": [
    "<div class=\"alert alert-block alert-success\">\n",
    "Now move to the above directory (cd = change directory): \n",
    "</div>"
   ]
  },
  {
   "cell_type": "code",
   "execution_count": null,
   "id": "1c14e92d-79f9-4ed7-bd22-5b6bd97b2ef4",
   "metadata": {
    "tags": []
   },
   "outputs": [],
   "source": [
    "cd $root_path"
   ]
  },
  {
   "cell_type": "markdown",
   "id": "4978c669-0813-4e27-bbb7-5233a355a39e",
   "metadata": {},
   "source": [
    "<div class=\"alert alert-block alert-danger\">\n",
    "NOTE: the above two code cells must be run every time you use this Notebook.\n",
    "    </div>"
   ]
  },
  {
   "cell_type": "markdown",
   "id": "b11c274c-69ed-425f-bfd7-59f93cd002d6",
   "metadata": {},
   "source": [
    "<div class=\"alert alert-block alert-warning\">\n",
    "To see if you are in the correct directory, run the 'ls' code cell below. You should see a list of all your sample files ('...fastq.gz' or '...fq.gz' files). If you don't see the files, you've entered the above location incorrectly and need to correct and re-run the above code cell.\n",
    "</div>"
   ]
  },
  {
   "cell_type": "code",
   "execution_count": null,
   "id": "f26801d6-c5fd-4bd4-8dd1-a535d33ceb14",
   "metadata": {},
   "outputs": [],
   "source": [
    "ls"
   ]
  },
  {
   "cell_type": "markdown",
   "id": "4398936d-b443-4688-b1d0-91eb640a34d0",
   "metadata": {},
   "source": [
    "********"
   ]
  },
  {
   "cell_type": "markdown",
   "id": "a08ed2cb-723e-49de-8116-8b51196fa485",
   "metadata": {},
   "source": [
    "## 1e. Creating a samplesheet <a class=\"anchor\" id=\"sampsheet\"></a>"
   ]
  },
  {
   "cell_type": "markdown",
   "id": "5c83ac8f-f204-4138-b3d4-c5f6efaa43a7",
   "metadata": {},
   "source": [
    "nfcore/sarek requires a samplesheet, that contains, at minumum, 4 columns:\n",
    "1. sample IDs\n",
    "2. Read 1 sequence data files (fastq files)\n",
    "3. Read 2 sequence data files (fastq files)\n",
    "4. [Strandedness](https://www.rna-seqblog.com/what-is-strandedness-in-rna-seq-data/)\n",
    "Details about the required samplesheet structure, as well as an example samplesheet, can be see [here](https://nf-co.re/rnaseq/3.12.0/docs/usage#samplesheet-input)."
   ]
  },
  {
   "cell_type": "markdown",
   "id": "2c5466d7-285e-4a03-b9ce-9abf38d0a8dc",
   "metadata": {},
   "source": [
    "<div class=\"alert alert-block alert-danger\">\n",
    "FASTQ FILE NAMING CONVENTIONS: sequence data files (fastq files) are typically paired-end, with two fastq files per sample, Read 1 (R1) and Read 2 (R2). In addition, fastq files are typically gzipped ('filename.fastq.gz' - nfcore/rnaseq requirs this) and may be named 'fastq' or just 'fq'. This results in a few different naming patterns. To create your samplesheet correctly, you need to enter the naming patterns that match your fastq files in the code cells below (i.e. the last few characters at the end of each file that are teh same in ALL Read 1 and ALL Read 2 files respectively). Some examples of fastq naming conventions can be `R1_001.fastq.gz`, `1_fq.gz`, `R2_fq.gz`, `2_fastq.gz', etc.  \n",
    "</div>"
   ]
  },
  {
   "cell_type": "markdown",
   "id": "8988aa81-6ff7-467d-8479-94bce03b6f2b",
   "metadata": {},
   "source": [
    "For more information about fastq files, see [here](https://knowledge.illumina.com/software/general/software-general-reference_material-list/000002211)."
   ]
  },
  {
   "cell_type": "markdown",
   "id": "2787b72b-1842-4f6a-9e69-dfb69ff394d1",
   "metadata": {},
   "source": [
    "<div class=\"alert alert-block alert-info\">\n",
    "First, input the common naming pattern of your Read 1 data files. You can see this from the `ls` command above.\n",
    "</div>"
   ]
  },
  {
   "cell_type": "code",
   "execution_count": null,
   "id": "df6a5718-cf3c-49ff-8e36-97d30b09a748",
   "metadata": {
    "tags": []
   },
   "outputs": [],
   "source": [
    "fq1_format=_R1.fastq.gz"
   ]
  },
  {
   "cell_type": "markdown",
   "id": "6ce6d558-3f20-449b-887d-9a6ac0b892ac",
   "metadata": {},
   "source": [
    "<div class=\"alert alert-block alert-info\">\n",
    "Enter the Read 2 files naming pattern.\n",
    "</div>"
   ]
  },
  {
   "cell_type": "code",
   "execution_count": null,
   "id": "e2009fb9-3c16-4167-b49a-563054739200",
   "metadata": {
    "tags": []
   },
   "outputs": [],
   "source": [
    "fq2_format=_R2.fastq.gz"
   ]
  },
  {
   "cell_type": "markdown",
   "id": "1d132e65-81aa-4275-b498-cbfc2d7f16f0",
   "metadata": {},
   "source": [
    "<div class=\"alert alert-block alert-success\">\n",
    "Now you generate the samplesheet by running the following:\n",
    "</div>"
   ]
  },
  {
   "cell_type": "code",
   "execution_count": null,
   "id": "da6dcb66-ba1f-4ae9-a22e-59c5db114017",
   "metadata": {
    "tags": []
   },
   "outputs": [],
   "source": [
    "cd $root_path\n",
    "module load python/3.10.8-gcccore-12.2.0\n",
    "wget -L -O fastq_dir_to_samplesheet.py https://raw.githubusercontent.com/nf-core/rnaseq/master/bin/fastq_dir_to_samplesheet.py\n",
    "chmod +x fastq_dir_to_samplesheet.py\n",
    "./fastq_dir_to_samplesheet.py $root_path samplesheet.csv \\\n",
    "    --strandedness auto \\\n",
    "    --read1_extension $fq1_format \\\n",
    "    --read2_extension $fq2_format"
   ]
  },
  {
   "cell_type": "markdown",
   "id": "9d9991fb-4402-4764-83b1-7058edde9229",
   "metadata": {},
   "source": [
    "<div class=\"alert alert-block alert-success\">\n",
    "View the samplesheet by running the below cell. The structure should look the same as the example here: https://nf-co.re/rnaseq/3.12.0/docs/usage#samplesheet-input:\n",
    "</div>"
   ]
  },
  {
   "cell_type": "code",
   "execution_count": null,
   "id": "a1199c5c-5efd-408b-8f8a-c0d98cb86409",
   "metadata": {
    "tags": []
   },
   "outputs": [],
   "source": [
    "cat samplesheet.csv"
   ]
  },
  {
   "cell_type": "markdown",
   "id": "f544c30f-da88-427e-bf6f-e0ff8e952e46",
   "metadata": {},
   "source": [
    "******************"
   ]
  },
  {
   "cell_type": "markdown",
   "id": "d9acb6a5-5b04-4088-bf7c-19a8e6d5dfec",
   "metadata": {},
   "source": [
    "# 1f. Quality assessment <a class=\"anchor\" id=\"qc\"></a>"
   ]
  },
  {
   "cell_type": "markdown",
   "id": "eca1b43a-d2fc-4f34-b854-bfbb610ca7b8",
   "metadata": {},
   "source": [
    "In this section you will generate fastq quality reports, which will inform you of the quality of your data and any specific quality filtering parameters you should apply (next section)."
   ]
  },
  {
   "cell_type": "markdown",
   "id": "23624ffc-9e49-4463-988b-97e554144a14",
   "metadata": {},
   "source": [
    "<div class=\"alert alert-block alert-danger\">\n",
    "The code in this section submits your workflow to the HPC as a 'job' in the queue. If you have many samples, this may take many hours or even days to fully process. We provide a code cell at the end of this section to monitor your job.\n",
    "</div>"
   ]
  },
  {
   "cell_type": "markdown",
   "id": "749a78dd-fe17-4e54-90a2-28271377f619",
   "metadata": {},
   "source": [
    "See here for information on HPC job submission: https://eresearchqut.atlassian.net/wiki/spaces/EG/pages/1545143157/HPC"
   ]
  },
  {
   "cell_type": "markdown",
   "id": "0bd82d07-49b9-4ac7-af06-d47b25cecc25",
   "metadata": {},
   "source": [
    "<div class=\"alert alert-block alert-info\">\n",
    "Choose a genome for your target organism. For model organisms this is the iGenomes ID. E.g. human could be `genome=GRCh38`, mouse `genome=GRCm38`, etc. See here for details: https://github.com/ewels/AWS-iGenomes\n",
    "</div>"
   ]
  },
  {
   "cell_type": "code",
   "execution_count": null,
   "id": "8966aff3-bf40-4bb9-b01d-d90703482a07",
   "metadata": {
    "tags": []
   },
   "outputs": [],
   "source": [
    "genome=GRCh38"
   ]
  },
  {
   "cell_type": "markdown",
   "id": "b062c11e-965c-4b37-b716-69c51b19c70c",
   "metadata": {},
   "source": [
    "<div class=\"alert alert-block alert-success\">\n",
    "Run the following code cell to create the launch script that will submit your job. Note the '--skip_...' lines. This will run the nfcore/rnaseq workflow, while skipping the main analysis steps (i.e. running just the quality assessment).\n",
    "</div>"
   ]
  },
  {
   "cell_type": "code",
   "execution_count": null,
   "id": "965cefb0-a165-475a-883f-3b6bb5ba1c52",
   "metadata": {
    "tags": []
   },
   "outputs": [],
   "source": [
    "cat <<EOF > qc_launch.pbs\n",
    "#!/bin/bash -l\n",
    "#PBS -N nfrnaqc\n",
    "#PBS -m abe\n",
    "#PBS -l select=1:ncpus=2:mem=4gb\n",
    "#PBS -l walltime=24:00:00\n",
    "cd $root_path\n",
    "module load java\n",
    "NXF_OPTS='-Xms1g -Xmx4g'\n",
    "nextflow run nf-core/rnaseq \\\n",
    "-profile singularity \\\n",
    "      -r 3.12.0 \\\n",
    "      --input samplesheet.csv \\\n",
    "      --outdir results \\\n",
    "      --genome $genome \\\n",
    "      --skip_trimming \\\n",
    "      --skip_alignment \\\n",
    "      --skip_pseudo_alignment\n",
    "EOF"
   ]
  },
  {
   "cell_type": "markdown",
   "id": "68081f22-3159-430d-b7bb-deea616e7486",
   "metadata": {
    "tags": []
   },
   "source": [
    "<div class=\"alert alert-block alert-success\">\n",
    "Now submit this as a HPC job.\n",
    "</div>"
   ]
  },
  {
   "cell_type": "code",
   "execution_count": null,
   "id": "380a0665-620b-4574-8e06-1e1a8c9eb9cb",
   "metadata": {
    "tags": []
   },
   "outputs": [],
   "source": [
    "qsub qc_launch.pbs"
   ]
  },
  {
   "cell_type": "markdown",
   "id": "f8136ee3-43fc-47bf-a697-d5060412c8a9",
   "metadata": {},
   "source": [
    "<div class=\"alert alert-block alert-info\">\n",
    "You can monitor the progress of your job by running 'qstat'. This will give you information about your job. Enter your job ID (seen above, \"xxxxxxx.pbs\") in the qstat command below:\n",
    "</div>"
   ]
  },
  {
   "cell_type": "code",
   "execution_count": null,
   "id": "347547a1-3e20-43bb-b220-b449551815a9",
   "metadata": {
    "tags": []
   },
   "outputs": [],
   "source": [
    "qstat 4928274.pbs"
   ]
  },
  {
   "cell_type": "markdown",
   "id": "74f6aa8f-59e0-4b99-9372-d864171930c5",
   "metadata": {},
   "source": [
    "In the 'S' column, 'Q' means your job is still in the queue, 'R' means it's running, and if your job is complete it will say \"Job has finished\". Once the job is complete, you can view the quality reports."
   ]
  },
  {
   "cell_type": "markdown",
   "id": "5a564bb3-7eaf-4256-a462-54fe3fa37da4",
   "metadata": {},
   "source": [
    "### Accessing quality reports"
   ]
  },
  {
   "cell_type": "markdown",
   "id": "a320386b-46f9-4545-b51e-283544512801",
   "metadata": {},
   "source": [
    "Now that the quality reports are created, you can copy them to a directory in your HPC home account, so you can then easily access and download them."
   ]
  },
  {
   "cell_type": "markdown",
   "id": "d7b48ee5-abf0-4f54-bf92-b5cd328f3a24",
   "metadata": {},
   "source": [
    "<div class=\"alert alert-block alert-info\">\n",
    "Enter a directory name below. Make the directory name informative for your project.\n",
    "</div>"
   ]
  },
  {
   "cell_type": "code",
   "execution_count": null,
   "id": "2b34c645-6844-4a71-82c7-c86f712c82e3",
   "metadata": {},
   "outputs": [],
   "source": [
    "outdir=rnaseq_test"
   ]
  },
  {
   "cell_type": "markdown",
   "id": "14bc34d4-8af4-4ed5-838d-186aca2f1d04",
   "metadata": {},
   "source": [
    "<div class=\"alert alert-block alert-success\">\n",
    "Run the below code cell to create this directory in your home directory.\n",
    "</div>"
   ]
  },
  {
   "cell_type": "code",
   "execution_count": null,
   "id": "738a2143-a84b-4faf-b0d6-04938506a6d2",
   "metadata": {},
   "outputs": [],
   "source": [
    "mkdir $HOME/$outdir\n",
    "mkdir $HOME/$outdir/qc"
   ]
  },
  {
   "cell_type": "markdown",
   "id": "032a2435-9034-4b8a-8dce-ad666073054b",
   "metadata": {},
   "source": [
    "<div class=\"alert alert-block alert-success\">\n",
    "Now run the below code cell to copy all of the quality reports to the directory you just created.\n",
    "</div>"
   ]
  },
  {
   "cell_type": "code",
   "execution_count": null,
   "id": "f75c2747-0f6c-4000-8943-7a722d2f10cb",
   "metadata": {
    "tags": []
   },
   "outputs": [],
   "source": [
    "cp -r $root_path/results/fastqc $HOME/$outdir/qc\n",
    "cp -r $root_path/results/multiqc $HOME/$outdir/qc"
   ]
  },
  {
   "cell_type": "markdown",
   "id": "f0cc75e1-5b7f-410c-8a3c-13de24eaa4ab",
   "metadata": {},
   "source": [
    "You can now view or download these files from the File Browser panel to the left (press 'ctrl + shift + f' if it's not visible). Click on the small folder icon to go to your home directory, then click on the directory name you just created. This will contain all your quality reports, which you can double-click on to open in a new tab (or right click on them to download)."
   ]
  },
  {
   "cell_type": "markdown",
   "id": "d6e0372a-1966-4992-8254-bb3a192a18fa",
   "metadata": {},
   "source": [
    "*******************"
   ]
  },
  {
   "cell_type": "markdown",
   "id": "909f5668-c6e9-4b11-9128-a1dd49598c92",
   "metadata": {},
   "source": [
    "# 1g. Running nfcore/rnaseq <a class=\"anchor\" id=\"main\"></a>"
   ]
  },
  {
   "cell_type": "markdown",
   "id": "fd3839af-219b-4446-ac87-0f3eddf5d73e",
   "metadata": {},
   "source": [
    "Now the main RNA-Seq workflow can be run, choosing the appropriate trimming parameters, based on the quality reports you generated in the previous section. "
   ]
  },
  {
   "cell_type": "markdown",
   "id": "31b01299-3c5f-4965-8f53-10e0a0f3ade0",
   "metadata": {},
   "source": [
    "In the below 4 code cells, you can tell the pipeline to remove a defined number of bases from the 5'-end (`--clip_r1` or `--clip_r2`) or 3'-end (`--three_prime_clip_r1` or `--three_prime_clip_r2`). Look at your quality reports and see if there is 'noise' or low quality bases on the 3' and 5' ends of your reads, and trim those bases."
   ]
  },
  {
   "cell_type": "markdown",
   "id": "6030c179-de14-4001-a092-392b92269ef7",
   "metadata": {},
   "source": [
    "<div class=\"alert alert-block alert-info\">\n",
    "Choose how many bases to trim from read 1 (R1), 5' end (`clip_r1=x`). You can choose 0 if no trimming is needed.\n",
    "</div>"
   ]
  },
  {
   "cell_type": "code",
   "execution_count": null,
   "id": "cd78d915-bf9d-4b77-9b8f-3b949168e4b5",
   "metadata": {
    "tags": []
   },
   "outputs": [],
   "source": [
    "clip_r1=5"
   ]
  },
  {
   "cell_type": "markdown",
   "id": "90fafde4-daf4-4cca-be25-c555cecd653d",
   "metadata": {},
   "source": [
    "<div class=\"alert alert-block alert-info\">\n",
    "Choose how many bases to trim from read 2 (R2), 5' end (`clip_r2=x`)\n",
    "</div>"
   ]
  },
  {
   "cell_type": "code",
   "execution_count": null,
   "id": "5b44a74c-fb8e-49b4-9f58-d76742f6cbdf",
   "metadata": {
    "tags": []
   },
   "outputs": [],
   "source": [
    "clip_r2=5"
   ]
  },
  {
   "cell_type": "markdown",
   "id": "ba0aca49-76d5-4ce1-bdaf-c66dceb346c1",
   "metadata": {},
   "source": [
    "<div class=\"alert alert-block alert-info\">\n",
    "Choose how many bases to trim from read 1, 3' end (`three_prime_clip_r1=x`)\n",
    "</div>"
   ]
  },
  {
   "cell_type": "code",
   "execution_count": null,
   "id": "4ecef4da-7a2f-4e8c-aea8-9f860794ead2",
   "metadata": {
    "tags": []
   },
   "outputs": [],
   "source": [
    "three_prime_clip_r1=5"
   ]
  },
  {
   "cell_type": "markdown",
   "id": "8f2ce00d-4b02-482e-bf63-c2c9e8318afc",
   "metadata": {},
   "source": [
    "<div class=\"alert alert-block alert-info\">\n",
    "Choose how many bases to trim from read 2, 3' end (`three_prime_clip_r2=x`)\n",
    "</div>"
   ]
  },
  {
   "cell_type": "code",
   "execution_count": null,
   "id": "dde0a191-42bb-4333-bdaf-e5d8cd978a98",
   "metadata": {
    "tags": []
   },
   "outputs": [],
   "source": [
    "three_prime_clip_r2=5"
   ]
  },
  {
   "cell_type": "markdown",
   "id": "d4146d8b-77db-469d-b4f4-809dcaa7c29d",
   "metadata": {},
   "source": [
    "<div class=\"alert alert-block alert-danger\">\n",
    "IMPORTANT: before running the below, make sure you re-run the 1) 'genome=xxxx' code cell from the previous quality assessment section and 2) the 2 code cells ('root_path=xx' and 'cd $root_path') in the Initial Setup section.\n",
    "    </div>"
   ]
  },
  {
   "cell_type": "code",
   "execution_count": null,
   "id": "846bd2bb-343e-4986-8bd7-9f188847a3ae",
   "metadata": {},
   "outputs": [],
   "source": [
    "cat <<EOF > main_launch.pbs\n",
    "#!/bin/bash -l\n",
    "#PBS -N nfrnaseq\n",
    "#PBS -m abe\n",
    "#PBS -l select=1:ncpus=2:mem=4gb\n",
    "#PBS -l walltime=72:00:00\n",
    "cd $root_path\n",
    "module load java\n",
    "NXF_OPTS='-Xms1g -Xmx4g'\n",
    "nextflow run nf-core/rnaseq --input samplesheet.csv \\\n",
    "        --outdir results \\\n",
    "        -r 3.12.0 \\\n",
    "        --genome $genome \\\n",
    "        -profile singularity \\\n",
    "        --aligner star_salmon \\\n",
    "        --extra_trimgalore_args \"--clip_r1 $clip_r1 --clip_r2 $clip_r2 --three_prime_clip_r1 $three_prime_clip_r1 --three_prime_clip_r2 $three_prime_clip_r2 \"\n",
    "EOF"
   ]
  },
  {
   "cell_type": "markdown",
   "id": "b3002d16-4913-430e-89cc-95cdf4df6595",
   "metadata": {
    "tags": []
   },
   "source": [
    "<div class=\"alert alert-block alert-success\">\n",
    "Now submit this as a HPC job.\n",
    "</div>"
   ]
  },
  {
   "cell_type": "code",
   "execution_count": null,
   "id": "53bb3a15-ad2a-4495-91bc-cb538d85fa91",
   "metadata": {
    "tags": []
   },
   "outputs": [],
   "source": [
    "qsub main_launch.pbs"
   ]
  },
  {
   "cell_type": "markdown",
   "id": "2d7d34a3-3584-4b96-99d3-bfc916b922a2",
   "metadata": {},
   "source": [
    "<div class=\"alert alert-block alert-info\">\n",
    "As in the quality section, you can monitor the progress of your job by running 'qstat'. This will give you information about your job. Enter your job ID (seen above, \"xxxxxxx.pbs\") in the qstat command below:\n",
    "</div>"
   ]
  },
  {
   "cell_type": "code",
   "execution_count": null,
   "id": "9f828987-581c-47f2-b368-77b055c40f95",
   "metadata": {
    "tags": []
   },
   "outputs": [],
   "source": [
    "qstat 4936252.pbs"
   ]
  },
  {
   "cell_type": "markdown",
   "id": "44e2ad3a-00ee-40e1-8efa-3af7d9b695c6",
   "metadata": {},
   "source": [
    "<div class=\"alert alert-block alert-danger\">\n",
    "Depending on the size of your data and how busy the HPC queue is, your analysis may take a few days to complete. You can come back to this Notebook (click on the link previously provided) and re-run the above 'qstat' command to monitor your job.\n",
    "    </div>"
   ]
  },
  {
   "cell_type": "markdown",
   "id": "8f9e38a6-2c6e-4600-8dde-8b7c8fab4c35",
   "metadata": {},
   "source": [
    "### Accessing results"
   ]
  },
  {
   "cell_type": "markdown",
   "id": "19288964-6f4c-4d13-922a-b18c6dea6e34",
   "metadata": {},
   "source": [
    "Once the analysis is complete, you can copy the results to a directory in your HPC home account, so you can then easily access and download them."
   ]
  },
  {
   "cell_type": "markdown",
   "id": "d77b3e51-ca53-4eae-9dd9-94ed97ba0161",
   "metadata": {},
   "source": [
    "<div class=\"alert alert-block alert-info\">\n",
    "Enter a directory name below. Make the directory name informative for your project.\n",
    "</div>"
   ]
  },
  {
   "cell_type": "markdown",
   "id": "14fc8847-3acb-41eb-ab25-86cea52892b4",
   "metadata": {},
   "source": [
    "<div class=\"alert alert-block alert-danger\">\n",
    "The name of this directory should be the same (but doesn't have to be) as the name you provided in the 'Accessing quality reports' section ('outdir=xxx')\n",
    "    </div>"
   ]
  },
  {
   "cell_type": "code",
   "execution_count": null,
   "id": "98ba44b0-d2c3-49a7-812d-1ad7e74e38e5",
   "metadata": {},
   "outputs": [],
   "source": [
    "outdir=rnaseq_test"
   ]
  },
  {
   "cell_type": "markdown",
   "id": "d507207d-a7e7-4383-8576-dbba7aadaa7a",
   "metadata": {},
   "source": [
    "<div class=\"alert alert-block alert-success\">\n",
    "Run the below code cell to create this directory in your home directory (you will get a 'cannot create directory' error if the directory name is the same as you used in the quality section, but you can ignore that).\n",
    "</div>"
   ]
  },
  {
   "cell_type": "markdown",
   "id": "61da7ed9-9c75-4da3-b3e9-cae90a32ca5d",
   "metadata": {},
   "source": [
    "<div class=\"alert alert-block alert-danger\">\n",
    "IMPORTANT: before running the below, make sure you re-run the 2 code cells ('root_path=xx' and 'cd $root_path') in the Initial Setup section.\n",
    "    </div>"
   ]
  },
  {
   "cell_type": "code",
   "execution_count": null,
   "id": "e246c8e1-16fc-40cb-8884-8dcdddf398b4",
   "metadata": {},
   "outputs": [],
   "source": [
    "mkdir $HOME/$outdir"
   ]
  },
  {
   "cell_type": "markdown",
   "id": "4d117a93-d626-42b3-9453-2a4230b680a6",
   "metadata": {},
   "source": [
    "<div class=\"alert alert-block alert-success\">\n",
    "Now run the below code cell to copy your results directory to the directory you just created.\n",
    "</div>"
   ]
  },
  {
   "cell_type": "code",
   "execution_count": null,
   "id": "6ee83d90-30c7-4053-8b4c-664172c31443",
   "metadata": {
    "tags": []
   },
   "outputs": [],
   "source": [
    "cp -r $root_path/results $HOME/$outdir"
   ]
  },
  {
   "cell_type": "markdown",
   "id": "69174410-6c25-4ce1-a3c2-a8b241a656e0",
   "metadata": {},
   "source": [
    "You can now download these files from the File Browser panel to the left (press 'ctrl + shift + f' if it's not visible). Click on the small folder icon to go to your home directory, then click on the directory name you just created. You can download results files by right click -> download or view some result files (images, pdfs, html, tables) in another tab in this Notebook by double clicking on them."
   ]
  },
  {
   "cell_type": "markdown",
   "id": "10283efa-bd2c-40ec-bc4b-5ca13cf0c680",
   "metadata": {},
   "source": [
    "**********************"
   ]
  },
  {
   "cell_type": "markdown",
   "id": "ba0a23a3-1d81-49e2-8531-7eb7fce66f8b",
   "metadata": {},
   "source": [
    "# 1h. Downstream analysis <a class=\"anchor\" id=\"down\"></a>"
   ]
  },
  {
   "cell_type": "markdown",
   "id": "0796cee4-1736-4979-9da9-80e9c0a3a2ca",
   "metadata": {},
   "source": [
    "The majority of downstream differential expression (DE) analysis can be completed [in R](https://cran.r-project.org/), using [Rstudio](https://posit.co/download/rstudio-desktop/). The main DE package used is [DESeq2](https://bioconductor.org/packages/release/bioc/html/DESeq2.html). As input, you can use the 'salmon.merged.gene_counts_length_scaled.tsv' count table, found in your results/star_salmon directory, that you downloaded at the end of the previous section. "
   ]
  },
  {
   "cell_type": "markdown",
   "id": "95983ca4-9f40-4921-9ffa-55aee4e44b59",
   "metadata": {},
   "source": [
    "<div class=\"alert alert-block alert-danger\">\n",
    "NOTE: this is a placeholder section. The full downstream analysis is being developed in the next section of this Jupyter Notebook, but is still under development.\n",
    "    </div>"
   ]
  },
  {
   "cell_type": "markdown",
   "id": "536982d3-e105-4b56-bde5-71565271761e",
   "metadata": {},
   "source": [
    "Follow the DESeq2 differential expression guide here: http://bioconductor.org/packages/devel/bioc/vignettes/DESeq2/inst/doc/DESeq2.html"
   ]
  },
  {
   "cell_type": "code",
   "execution_count": null,
   "id": "8f0866a8-c26c-4384-9f32-c6972730eaa6",
   "metadata": {},
   "outputs": [],
   "source": []
  }
 ],
 "metadata": {
  "kernelspec": {
   "display_name": "Bash .conda-jupyterhub *",
   "language": "bash",
   "name": "conda-env-.conda-jupyterhub-bash"
  },
  "language_info": {
   "codemirror_mode": "shell",
   "file_extension": ".sh",
   "mimetype": "text/x-sh",
   "name": "bash"
  }
 },
 "nbformat": 4,
 "nbformat_minor": 5
}
